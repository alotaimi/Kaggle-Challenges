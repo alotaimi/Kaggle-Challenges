{
 "cells": [
  {
   "cell_type": "code",
   "execution_count": 35,
   "metadata": {},
   "outputs": [],
   "source": [
    "# # Load libraries\n",
    "# import numpy as np\n",
    "# import pandas as pd\n",
    "# from matplotlib import pyplot\n",
    "# from pandas import read_csv, set_option\n",
    "# from pandas.plotting import scatter_matrix\n",
    "# import seaborn as sns\n",
    "# from sklearn.preprocessing import StandardScaler\n",
    "# from sklearn.model_selection import train_test_split, KFold, cross_val_score, GridSearchCV\n",
    "# from sklearn.linear_model import LogisticRegression\n",
    "# from sklearn.tree import DecisionTreeClassifier\n",
    "# from sklearn.neighbors import KNeighborsClassifier\n",
    "# from sklearn.discriminant_analysis import LinearDiscriminantAnalysis\n",
    "# from sklearn.naive_bayes import GaussianNB\n",
    "# from sklearn.svm import SVC\n",
    "# from sklearn.neural_network import MLPClassifier\n",
    "# from sklearn.pipeline import Pipeline\n",
    "# from sklearn.ensemble import AdaBoostClassifier, GradientBoostingClassifier, RandomForestClassifier, ExtraTreesClassifier\n",
    "# from sklearn.metrics import classification_report, confusion_matrix, accuracy_score\n",
    "\n",
    "# #Libraries for Deep Learning Models\n",
    "# from keras.models import Sequential\n",
    "# from keras.layers import Dense\n",
    "# from keras.wrappers.scikit_learn import KerasClassifier\n",
    "# from tensorflow.keras.optimizers import SGD\n",
    "\n",
    "# #Libraries for Saving the Model\n",
    "# from pickle import dump\n",
    "# from pickle import load\n",
    "# import csv"
   ]
  },
  {
   "cell_type": "code",
   "execution_count": 36,
   "metadata": {},
   "outputs": [],
   "source": [
    "import numpy as np\n",
    "import pandas as pd\n",
    "# from keras.models import Sequential\n",
    "# from keras.layers import Dense\n",
    "# from keras.wrappers.scikit_learn import KerasClassifier\n",
    "#from tensorflow.keras.optimizers import SGD\n",
    "from sklearn.model_selection import train_test_split\n",
    "import pycaret\n",
    "from pycaret.classification import *\n",
    "\n",
    "from pickle import dump\n",
    "from pickle import load"
   ]
  },
  {
   "cell_type": "code",
   "execution_count": 37,
   "metadata": {},
   "outputs": [],
   "source": [
    "import warnings\n",
    "warnings.filterwarnings('ignore')"
   ]
  },
  {
   "cell_type": "code",
   "execution_count": 38,
   "metadata": {},
   "outputs": [],
   "source": [
    "dataset = pd.read_csv('test.csv')\n",
    "dataset.fillna(dataset.median(),inplace=True)\n",
    "dataset.drop(columns=['id','product_code'],inplace=True)\n",
    "dataset.drop(columns=['attribute_0','attribute_1','attribute_2','attribute_3','measurement_10','measurement_14','measurement_8','measurement_0','measurement_17','measurement_15'],inplace=True)"
   ]
  },
  {
   "cell_type": "code",
   "execution_count": 39,
   "metadata": {},
   "outputs": [],
   "source": [
    "dataset = dataset.loc[:,:]"
   ]
  },
  {
   "cell_type": "code",
   "execution_count": 40,
   "metadata": {},
   "outputs": [
    {
     "name": "stdout",
     "output_type": "stream",
     "text": [
      "Transformation Pipeline and Model Successfully Loaded\n"
     ]
    }
   ],
   "source": [
    "loaded_model = load_model('my_best_pipeline')"
   ]
  },
  {
   "cell_type": "code",
   "execution_count": 41,
   "metadata": {},
   "outputs": [],
   "source": [
    "predictions = predict_model(loaded_model, data=dataset, raw_score=True)"
   ]
  },
  {
   "cell_type": "code",
   "execution_count": 42,
   "metadata": {},
   "outputs": [
    {
     "data": {
      "text/html": [
       "<div>\n",
       "<style scoped>\n",
       "    .dataframe tbody tr th:only-of-type {\n",
       "        vertical-align: middle;\n",
       "    }\n",
       "\n",
       "    .dataframe tbody tr th {\n",
       "        vertical-align: top;\n",
       "    }\n",
       "\n",
       "    .dataframe thead th {\n",
       "        text-align: right;\n",
       "    }\n",
       "</style>\n",
       "<table border=\"1\" class=\"dataframe\">\n",
       "  <thead>\n",
       "    <tr style=\"text-align: right;\">\n",
       "      <th></th>\n",
       "      <th>loading</th>\n",
       "      <th>measurement_1</th>\n",
       "      <th>measurement_2</th>\n",
       "      <th>measurement_3</th>\n",
       "      <th>measurement_4</th>\n",
       "      <th>measurement_5</th>\n",
       "      <th>measurement_6</th>\n",
       "      <th>measurement_7</th>\n",
       "      <th>measurement_9</th>\n",
       "      <th>measurement_11</th>\n",
       "      <th>measurement_12</th>\n",
       "      <th>measurement_13</th>\n",
       "      <th>measurement_16</th>\n",
       "      <th>Label</th>\n",
       "      <th>Score_0</th>\n",
       "      <th>Score_1</th>\n",
       "    </tr>\n",
       "  </thead>\n",
       "  <tbody>\n",
       "    <tr>\n",
       "      <th>0</th>\n",
       "      <td>119.57</td>\n",
       "      <td>9</td>\n",
       "      <td>6</td>\n",
       "      <td>19.305</td>\n",
       "      <td>10.178</td>\n",
       "      <td>17.534</td>\n",
       "      <td>18.168</td>\n",
       "      <td>11.598</td>\n",
       "      <td>10.802</td>\n",
       "      <td>18.070</td>\n",
       "      <td>13.772</td>\n",
       "      <td>13.659</td>\n",
       "      <td>17.710</td>\n",
       "      <td>1</td>\n",
       "      <td>0.41</td>\n",
       "      <td>0.59</td>\n",
       "    </tr>\n",
       "    <tr>\n",
       "      <th>1</th>\n",
       "      <td>113.51</td>\n",
       "      <td>8</td>\n",
       "      <td>0</td>\n",
       "      <td>17.883</td>\n",
       "      <td>11.927</td>\n",
       "      <td>17.228</td>\n",
       "      <td>16.033</td>\n",
       "      <td>11.179</td>\n",
       "      <td>12.032</td>\n",
       "      <td>18.810</td>\n",
       "      <td>12.473</td>\n",
       "      <td>17.468</td>\n",
       "      <td>14.102</td>\n",
       "      <td>1</td>\n",
       "      <td>0.37</td>\n",
       "      <td>0.63</td>\n",
       "    </tr>\n",
       "    <tr>\n",
       "      <th>2</th>\n",
       "      <td>112.16</td>\n",
       "      <td>12</td>\n",
       "      <td>4</td>\n",
       "      <td>18.475</td>\n",
       "      <td>10.481</td>\n",
       "      <td>16.619</td>\n",
       "      <td>18.189</td>\n",
       "      <td>12.126</td>\n",
       "      <td>11.743</td>\n",
       "      <td>18.086</td>\n",
       "      <td>10.907</td>\n",
       "      <td>13.363</td>\n",
       "      <td>16.021</td>\n",
       "      <td>1</td>\n",
       "      <td>0.31</td>\n",
       "      <td>0.69</td>\n",
       "    </tr>\n",
       "    <tr>\n",
       "      <th>3</th>\n",
       "      <td>112.72</td>\n",
       "      <td>11</td>\n",
       "      <td>10</td>\n",
       "      <td>16.518</td>\n",
       "      <td>10.888</td>\n",
       "      <td>15.293</td>\n",
       "      <td>18.592</td>\n",
       "      <td>11.304</td>\n",
       "      <td>11.790</td>\n",
       "      <td>16.163</td>\n",
       "      <td>10.933</td>\n",
       "      <td>15.501</td>\n",
       "      <td>16.111</td>\n",
       "      <td>1</td>\n",
       "      <td>0.39</td>\n",
       "      <td>0.61</td>\n",
       "    </tr>\n",
       "    <tr>\n",
       "      <th>4</th>\n",
       "      <td>208.00</td>\n",
       "      <td>16</td>\n",
       "      <td>8</td>\n",
       "      <td>17.808</td>\n",
       "      <td>12.693</td>\n",
       "      <td>17.678</td>\n",
       "      <td>15.814</td>\n",
       "      <td>13.431</td>\n",
       "      <td>12.370</td>\n",
       "      <td>17.849</td>\n",
       "      <td>11.941</td>\n",
       "      <td>16.070</td>\n",
       "      <td>17.150</td>\n",
       "      <td>1</td>\n",
       "      <td>0.23</td>\n",
       "      <td>0.77</td>\n",
       "    </tr>\n",
       "  </tbody>\n",
       "</table>\n",
       "</div>"
      ],
      "text/plain": [
       "   loading  measurement_1  measurement_2  measurement_3  measurement_4  \\\n",
       "0   119.57              9              6         19.305         10.178   \n",
       "1   113.51              8              0         17.883         11.927   \n",
       "2   112.16             12              4         18.475         10.481   \n",
       "3   112.72             11             10         16.518         10.888   \n",
       "4   208.00             16              8         17.808         12.693   \n",
       "\n",
       "   measurement_5  measurement_6  measurement_7  measurement_9  measurement_11  \\\n",
       "0         17.534         18.168         11.598         10.802          18.070   \n",
       "1         17.228         16.033         11.179         12.032          18.810   \n",
       "2         16.619         18.189         12.126         11.743          18.086   \n",
       "3         15.293         18.592         11.304         11.790          16.163   \n",
       "4         17.678         15.814         13.431         12.370          17.849   \n",
       "\n",
       "   measurement_12  measurement_13  measurement_16  Label  Score_0  Score_1  \n",
       "0          13.772          13.659          17.710      1     0.41     0.59  \n",
       "1          12.473          17.468          14.102      1     0.37     0.63  \n",
       "2          10.907          13.363          16.021      1     0.31     0.69  \n",
       "3          10.933          15.501          16.111      1     0.39     0.61  \n",
       "4          11.941          16.070          17.150      1     0.23     0.77  "
      ]
     },
     "execution_count": 42,
     "metadata": {},
     "output_type": "execute_result"
    }
   ],
   "source": [
    "predictions.head()"
   ]
  },
  {
   "cell_type": "code",
   "execution_count": 43,
   "metadata": {},
   "outputs": [],
   "source": [
    "dataset_id = pd.read_csv('test.csv')\n",
    "dataset.fillna(dataset.median(),inplace=True)\n",
    "dataset_id.reset_index(inplace=True)\n",
    "dataset_id = dataset_id.loc[:,'id']\n",
    "my_submission = pd.DataFrame({'id': dataset_id, 'failure': predictions['Label']})\n",
    "my_submission.to_csv('submission.csv', index=False)"
   ]
  }
 ],
 "metadata": {
  "kernelspec": {
   "display_name": "Python 3.9.13 ('pred')",
   "language": "python",
   "name": "python3"
  },
  "language_info": {
   "codemirror_mode": {
    "name": "ipython",
    "version": 3
   },
   "file_extension": ".py",
   "mimetype": "text/x-python",
   "name": "python",
   "nbconvert_exporter": "python",
   "pygments_lexer": "ipython3",
   "version": "3.8.13"
  },
  "orig_nbformat": 4,
  "vscode": {
   "interpreter": {
    "hash": "1ece7092c3d6d4d087263d4ba000651d73ee34ba737f2f83c90c3e75f8f05db1"
   }
  }
 },
 "nbformat": 4,
 "nbformat_minor": 2
}
